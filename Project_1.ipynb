{
 "cells": [
  {
   "cell_type": "code",
   "execution_count": 1,
   "metadata": {},
   "outputs": [],
   "source": [
    "import pandas as pd\n",
    "import numpy as np\n",
    "import matplotlib.pyplot as plt"
   ]
  },
  {
   "cell_type": "code",
   "execution_count": 2,
   "metadata": {},
   "outputs": [
    {
     "data": {
      "text/html": [
       "<div>\n",
       "<style scoped>\n",
       "    .dataframe tbody tr th:only-of-type {\n",
       "        vertical-align: middle;\n",
       "    }\n",
       "\n",
       "    .dataframe tbody tr th {\n",
       "        vertical-align: top;\n",
       "    }\n",
       "\n",
       "    .dataframe thead th {\n",
       "        text-align: right;\n",
       "    }\n",
       "</style>\n",
       "<table border=\"1\" class=\"dataframe\">\n",
       "  <thead>\n",
       "    <tr style=\"text-align: right;\">\n",
       "      <th></th>\n",
       "      <th>PreferredSponsors</th>\n",
       "      <th>Gender</th>\n",
       "      <th>Country</th>\n",
       "      <th>Degree</th>\n",
       "      <th>Sign Up Date</th>\n",
       "      <th>city</th>\n",
       "      <th>zip</th>\n",
       "      <th>isFromSocialMedia</th>\n",
       "    </tr>\n",
       "  </thead>\n",
       "  <tbody>\n",
       "    <tr>\n",
       "      <th>0</th>\n",
       "      <td>[\"GlobalShala\",\"Grant Thornton China\",\"Saint L...</td>\n",
       "      <td>Male</td>\n",
       "      <td>Nigeria</td>\n",
       "      <td>Undergraduate Student</td>\n",
       "      <td>2023-07-23T08:05:58.602Z</td>\n",
       "      <td>Owerri</td>\n",
       "      <td>460103</td>\n",
       "      <td>False</td>\n",
       "    </tr>\n",
       "    <tr>\n",
       "      <th>1</th>\n",
       "      <td>[\"GlobalShala\",\"Grant Thornton China\",\"Saint L...</td>\n",
       "      <td>Male</td>\n",
       "      <td>India</td>\n",
       "      <td>Undergraduate Student</td>\n",
       "      <td>2023-04-24T09:57:07.405Z</td>\n",
       "      <td>kottayam</td>\n",
       "      <td>686501</td>\n",
       "      <td>False</td>\n",
       "    </tr>\n",
       "    <tr>\n",
       "      <th>2</th>\n",
       "      <td>[\"GlobalShala\",\"Illinois Institute of Technolo...</td>\n",
       "      <td>NaN</td>\n",
       "      <td>India</td>\n",
       "      <td>NaN</td>\n",
       "      <td>2022-10-14T17:13:36.303Z</td>\n",
       "      <td>NaN</td>\n",
       "      <td>NaN</td>\n",
       "      <td>False</td>\n",
       "    </tr>\n",
       "    <tr>\n",
       "      <th>3</th>\n",
       "      <td>[\"GlobalShala\",\"Grant Thornton China\",\"Saint L...</td>\n",
       "      <td>NaN</td>\n",
       "      <td>Albania</td>\n",
       "      <td>NaN</td>\n",
       "      <td>2023-06-06T12:29:01.772Z</td>\n",
       "      <td>NaN</td>\n",
       "      <td>NaN</td>\n",
       "      <td>True</td>\n",
       "    </tr>\n",
       "    <tr>\n",
       "      <th>4</th>\n",
       "      <td>[\"GlobalShala\",\"Grant Thornton China\",\"Saint L...</td>\n",
       "      <td>Female</td>\n",
       "      <td>Ghana</td>\n",
       "      <td>Not in Education</td>\n",
       "      <td>2023-06-15T16:31:42.719Z</td>\n",
       "      <td>Kumasi</td>\n",
       "      <td>AT-1214-9090</td>\n",
       "      <td>False</td>\n",
       "    </tr>\n",
       "  </tbody>\n",
       "</table>\n",
       "</div>"
      ],
      "text/plain": [
       "                                   PreferredSponsors  Gender  Country  \\\n",
       "0  [\"GlobalShala\",\"Grant Thornton China\",\"Saint L...    Male  Nigeria   \n",
       "1  [\"GlobalShala\",\"Grant Thornton China\",\"Saint L...    Male    India   \n",
       "2  [\"GlobalShala\",\"Illinois Institute of Technolo...     NaN    India   \n",
       "3  [\"GlobalShala\",\"Grant Thornton China\",\"Saint L...     NaN  Albania   \n",
       "4  [\"GlobalShala\",\"Grant Thornton China\",\"Saint L...  Female    Ghana   \n",
       "\n",
       "                  Degree              Sign Up Date      city           zip  \\\n",
       "0  Undergraduate Student  2023-07-23T08:05:58.602Z    Owerri        460103   \n",
       "1  Undergraduate Student  2023-04-24T09:57:07.405Z  kottayam        686501   \n",
       "2                    NaN  2022-10-14T17:13:36.303Z       NaN           NaN   \n",
       "3                    NaN  2023-06-06T12:29:01.772Z       NaN           NaN   \n",
       "4       Not in Education  2023-06-15T16:31:42.719Z    Kumasi  AT-1214-9090   \n",
       "\n",
       "  isFromSocialMedia  \n",
       "0             False  \n",
       "1             False  \n",
       "2             False  \n",
       "3              True  \n",
       "4             False  "
      ]
     },
     "execution_count": 2,
     "metadata": {},
     "output_type": "execute_result"
    }
   ],
   "source": [
    "file_path = '/Users/macbookair/Downloads/UserData (2).csv'\n",
    "df = pd.read_csv(file_path)\n",
    "\n",
    "df.head()"
   ]
  },
  {
   "cell_type": "code",
   "execution_count": 3,
   "metadata": {},
   "outputs": [
    {
     "name": "stdout",
     "output_type": "stream",
     "text": [
      "<class 'pandas.core.frame.DataFrame'>\n",
      "RangeIndex: 27562 entries, 0 to 27561\n",
      "Data columns (total 8 columns):\n",
      " #   Column             Non-Null Count  Dtype \n",
      "---  ------             --------------  ----- \n",
      " 0   PreferredSponsors  27562 non-null  object\n",
      " 1   Gender             18027 non-null  object\n",
      " 2   Country            27500 non-null  object\n",
      " 3   Degree             16750 non-null  object\n",
      " 4   Sign Up Date       27562 non-null  object\n",
      " 5   city               18028 non-null  object\n",
      " 6   zip                18018 non-null  object\n",
      " 7   isFromSocialMedia  27553 non-null  object\n",
      "dtypes: object(8)\n",
      "memory usage: 1.7+ MB\n"
     ]
    }
   ],
   "source": [
    "# Printing info of the dataset\n",
    "df.info()"
   ]
  },
  {
   "cell_type": "code",
   "execution_count": 4,
   "metadata": {},
   "outputs": [
    {
     "data": {
      "text/plain": [
       "PreferredSponsors        0\n",
       "Gender                9535\n",
       "Country                 62\n",
       "Degree               10812\n",
       "Sign Up Date             0\n",
       "city                  9534\n",
       "zip                   9544\n",
       "isFromSocialMedia        9\n",
       "dtype: int64"
      ]
     },
     "execution_count": 4,
     "metadata": {},
     "output_type": "execute_result"
    }
   ],
   "source": [
    "# check the number of missing data\n",
    "df.isnull().sum()"
   ]
  },
  {
   "cell_type": "code",
   "execution_count": 5,
   "metadata": {},
   "outputs": [
    {
     "data": {
      "text/plain": [
       "Gender\n",
       "Male                     11027\n",
       "Female                    6910\n",
       "Don't want to specify       75\n",
       "Other                       15\n",
       "Name: count, dtype: int64"
      ]
     },
     "execution_count": 5,
     "metadata": {},
     "output_type": "execute_result"
    }
   ],
   "source": [
    "# \n",
    "df['Gender'].value_counts()"
   ]
  },
  {
   "cell_type": "code",
   "execution_count": 6,
   "metadata": {},
   "outputs": [],
   "source": [
    "# max_gender = df['Gender'].value_counts().idxmax()\n",
    "# max_gender"
   ]
  },
  {
   "cell_type": "code",
   "execution_count": 7,
   "metadata": {},
   "outputs": [
    {
     "name": "stdout",
     "output_type": "stream",
     "text": [
      "India\n"
     ]
    }
   ],
   "source": [
    "max_country = df['Country'].value_counts().idxmax()\n",
    "print(max_country)"
   ]
  },
  {
   "cell_type": "code",
   "execution_count": 8,
   "metadata": {},
   "outputs": [
    {
     "name": "stderr",
     "output_type": "stream",
     "text": [
      "/var/folders/0y/9xykymqn331_bmmdcljfdlyh0000gn/T/ipykernel_7090/48949995.py:1: FutureWarning: A value is trying to be set on a copy of a DataFrame or Series through chained assignment using an inplace method.\n",
      "The behavior will change in pandas 3.0. This inplace method will never work because the intermediate object on which we are setting values always behaves as a copy.\n",
      "\n",
      "For example, when doing 'df[col].method(value, inplace=True)', try using 'df.method({col: value}, inplace=True)' or df[col] = df[col].method(value) instead, to perform the operation inplace on the original object.\n",
      "\n",
      "\n",
      "  df['Country'].replace(np.nan, max_country, inplace=True)\n"
     ]
    }
   ],
   "source": [
    "df['Country'].replace(np.nan, max_country, inplace=True)"
   ]
  },
  {
   "cell_type": "code",
   "execution_count": 9,
   "metadata": {},
   "outputs": [
    {
     "name": "stdout",
     "output_type": "stream",
     "text": [
      "Total number of countries: 27562\n"
     ]
    }
   ],
   "source": [
    "count_country= df['Country'].value_counts().sum()\n",
    "print(\"Total number of countries:\", count_country)"
   ]
  },
  {
   "cell_type": "markdown",
   "metadata": {},
   "source": [
    "### To handle missing values in the Gender column, we filled them using the mode of each country, as some countries may have a higher population of one gender compared to others\n",
    "\n",
    "Use the pattern in writting the report. when you see the type of code below "
   ]
  },
  {
   "cell_type": "code",
   "execution_count": 65,
   "metadata": {},
   "outputs": [],
   "source": [
    "# Fill missing Gender values based on the mode within each country\n",
    "df['Gender'] = df.groupby('Country')['Gender'].transform(\n",
    "    lambda x: x.fillna(x.mode()[0] if not x.mode().empty else \"Don't want to specify\")\n",
    ")"
   ]
  },
  {
   "cell_type": "code",
   "execution_count": 11,
   "metadata": {},
   "outputs": [
    {
     "data": {
      "text/plain": [
       "Gender\n",
       "Male                     19952\n",
       "Female                    7455\n",
       "Don't want to specify      140\n",
       "Other                       15\n",
       "Name: count, dtype: int64"
      ]
     },
     "execution_count": 11,
     "metadata": {},
     "output_type": "execute_result"
    }
   ],
   "source": [
    "df['Gender'].value_counts()"
   ]
  },
  {
   "cell_type": "markdown",
   "metadata": {},
   "source": [
    "## SAME PATTERN GOES TO THE REST I USED THE SAME CODE FOR. \n",
    "\n",
    "### **Similar to Degree**, we cleaned the data by filling the missing values with the most frequent degree for each country"
   ]
  },
  {
   "cell_type": "code",
   "execution_count": 12,
   "metadata": {},
   "outputs": [
    {
     "data": {
      "text/plain": [
       "Degree\n",
       "Undergraduate Student       6527\n",
       "Graduate Program Student    6015\n",
       "Not in Education            2646\n",
       "High School Student         1562\n",
       "Name: count, dtype: int64"
      ]
     },
     "execution_count": 12,
     "metadata": {},
     "output_type": "execute_result"
    }
   ],
   "source": [
    "df['Degree'].value_counts()"
   ]
  },
  {
   "cell_type": "code",
   "execution_count": 13,
   "metadata": {},
   "outputs": [],
   "source": [
    "# Fill missing Degree values based on the mode within each country\n",
    "df['Degree'] = df.groupby('Country')['Degree'].transform(\n",
    "    lambda x: x.fillna(x.mode()[0] if not x.mode().empty else \"Not in Education\")\n",
    ")"
   ]
  },
  {
   "cell_type": "code",
   "execution_count": 14,
   "metadata": {},
   "outputs": [
    {
     "data": {
      "text/plain": [
       "Degree\n",
       "Undergraduate Student       13914\n",
       "Graduate Program Student     9069\n",
       "Not in Education             2871\n",
       "High School Student          1708\n",
       "Name: count, dtype: int64"
      ]
     },
     "execution_count": 14,
     "metadata": {},
     "output_type": "execute_result"
    }
   ],
   "source": [
    "df['Degree'].value_counts()"
   ]
  },
  {
   "cell_type": "code",
   "execution_count": 15,
   "metadata": {},
   "outputs": [
    {
     "data": {
      "text/plain": [
       "PreferredSponsors       0\n",
       "Gender                  0\n",
       "Country                 0\n",
       "Degree                  0\n",
       "Sign Up Date            0\n",
       "city                 9534\n",
       "zip                  9544\n",
       "isFromSocialMedia       9\n",
       "dtype: int64"
      ]
     },
     "execution_count": 15,
     "metadata": {},
     "output_type": "execute_result"
    }
   ],
   "source": [
    "df.isnull().sum()"
   ]
  },
  {
   "cell_type": "code",
   "execution_count": 16,
   "metadata": {},
   "outputs": [
    {
     "name": "stderr",
     "output_type": "stream",
     "text": [
      "/var/folders/0y/9xykymqn331_bmmdcljfdlyh0000gn/T/ipykernel_7090/4118682458.py:4: FutureWarning: Downcasting object dtype arrays on .fillna, .ffill, .bfill is deprecated and will change in a future version. Call result.infer_objects(copy=False) instead. To opt-in to the future behavior, set `pd.set_option('future.no_silent_downcasting', True)`\n",
      "  lambda x: x.fillna(x.mode().iloc[0] if not x.mode().empty else np.nan)\n"
     ]
    }
   ],
   "source": [
    "## Confused about this.\n",
    "\n",
    "df['city'] = df.groupby('Country')['city'].transform(\n",
    "    lambda x: x.fillna(x.mode().iloc[0] if not x.mode().empty else np.nan)\n",
    ")\n"
   ]
  },
  {
   "cell_type": "code",
   "execution_count": 17,
   "metadata": {},
   "outputs": [
    {
     "data": {
      "text/plain": [
       "PreferredSponsors       0\n",
       "Gender                  0\n",
       "Country                 0\n",
       "Degree                  0\n",
       "Sign Up Date            0\n",
       "city                   63\n",
       "zip                  9544\n",
       "isFromSocialMedia       9\n",
       "dtype: int64"
      ]
     },
     "execution_count": 17,
     "metadata": {},
     "output_type": "execute_result"
    }
   ],
   "source": [
    "df.isnull().sum()"
   ]
  },
  {
   "cell_type": "code",
   "execution_count": 18,
   "metadata": {},
   "outputs": [
    {
     "data": {
      "text/html": [
       "<div>\n",
       "<style scoped>\n",
       "    .dataframe tbody tr th:only-of-type {\n",
       "        vertical-align: middle;\n",
       "    }\n",
       "\n",
       "    .dataframe tbody tr th {\n",
       "        vertical-align: top;\n",
       "    }\n",
       "\n",
       "    .dataframe thead th {\n",
       "        text-align: right;\n",
       "    }\n",
       "</style>\n",
       "<table border=\"1\" class=\"dataframe\">\n",
       "  <thead>\n",
       "    <tr style=\"text-align: right;\">\n",
       "      <th></th>\n",
       "      <th>PreferredSponsors</th>\n",
       "      <th>Gender</th>\n",
       "      <th>Country</th>\n",
       "      <th>Degree</th>\n",
       "      <th>Sign Up Date</th>\n",
       "      <th>city</th>\n",
       "      <th>zip</th>\n",
       "      <th>isFromSocialMedia</th>\n",
       "    </tr>\n",
       "  </thead>\n",
       "  <tbody>\n",
       "    <tr>\n",
       "      <th>273</th>\n",
       "      <td>[\"GlobalShala\",\"Grant Thornton China\",\"Saint L...</td>\n",
       "      <td>Don't want to specify</td>\n",
       "      <td>Cuba</td>\n",
       "      <td>Not in Education</td>\n",
       "      <td>2023-08-07T21:46:21.606Z</td>\n",
       "      <td>NaN</td>\n",
       "      <td>NaN</td>\n",
       "      <td>True</td>\n",
       "    </tr>\n",
       "    <tr>\n",
       "      <th>916</th>\n",
       "      <td>[\"GlobalShala\",\"Grant Thornton China\",\"Saint L...</td>\n",
       "      <td>Don't want to specify</td>\n",
       "      <td>Chile</td>\n",
       "      <td>Not in Education</td>\n",
       "      <td>2023-09-01T17:00:10.718Z</td>\n",
       "      <td>NaN</td>\n",
       "      <td>NaN</td>\n",
       "      <td>True</td>\n",
       "    </tr>\n",
       "    <tr>\n",
       "      <th>1024</th>\n",
       "      <td>[\"GlobalShala\",\"Grant Thornton China\",\"Saint L...</td>\n",
       "      <td>Don't want to specify</td>\n",
       "      <td>Equatorial Guinea</td>\n",
       "      <td>Not in Education</td>\n",
       "      <td>2023-09-27T07:51:44.446Z</td>\n",
       "      <td>NaN</td>\n",
       "      <td>NaN</td>\n",
       "      <td>True</td>\n",
       "    </tr>\n",
       "    <tr>\n",
       "      <th>1330</th>\n",
       "      <td>[\"GlobalShala\",\"Grant Thornton China\",\"Saint L...</td>\n",
       "      <td>Don't want to specify</td>\n",
       "      <td>Bahrain</td>\n",
       "      <td>Not in Education</td>\n",
       "      <td>2023-08-24T04:43:41.994Z</td>\n",
       "      <td>NaN</td>\n",
       "      <td>NaN</td>\n",
       "      <td>True</td>\n",
       "    </tr>\n",
       "    <tr>\n",
       "      <th>1692</th>\n",
       "      <td>[\"Illinois Institute of Technology\",\"Grant Tho...</td>\n",
       "      <td>Don't want to specify</td>\n",
       "      <td>Hong Kong</td>\n",
       "      <td>Not in Education</td>\n",
       "      <td>2022-11-06T13:32:11.053Z</td>\n",
       "      <td>NaN</td>\n",
       "      <td>NaN</td>\n",
       "      <td>False</td>\n",
       "    </tr>\n",
       "  </tbody>\n",
       "</table>\n",
       "</div>"
      ],
      "text/plain": [
       "                                      PreferredSponsors  \\\n",
       "273   [\"GlobalShala\",\"Grant Thornton China\",\"Saint L...   \n",
       "916   [\"GlobalShala\",\"Grant Thornton China\",\"Saint L...   \n",
       "1024  [\"GlobalShala\",\"Grant Thornton China\",\"Saint L...   \n",
       "1330  [\"GlobalShala\",\"Grant Thornton China\",\"Saint L...   \n",
       "1692  [\"Illinois Institute of Technology\",\"Grant Tho...   \n",
       "\n",
       "                     Gender            Country            Degree  \\\n",
       "273   Don't want to specify               Cuba  Not in Education   \n",
       "916   Don't want to specify              Chile  Not in Education   \n",
       "1024  Don't want to specify  Equatorial Guinea  Not in Education   \n",
       "1330  Don't want to specify            Bahrain  Not in Education   \n",
       "1692  Don't want to specify          Hong Kong  Not in Education   \n",
       "\n",
       "                  Sign Up Date city  zip isFromSocialMedia  \n",
       "273   2023-08-07T21:46:21.606Z  NaN  NaN              True  \n",
       "916   2023-09-01T17:00:10.718Z  NaN  NaN              True  \n",
       "1024  2023-09-27T07:51:44.446Z  NaN  NaN              True  \n",
       "1330  2023-08-24T04:43:41.994Z  NaN  NaN              True  \n",
       "1692  2022-11-06T13:32:11.053Z  NaN  NaN             False  "
      ]
     },
     "execution_count": 18,
     "metadata": {},
     "output_type": "execute_result"
    }
   ],
   "source": [
    "mask_df = df['city'].isna()\n",
    "df[mask_df].head()"
   ]
  },
  {
   "cell_type": "code",
   "execution_count": null,
   "metadata": {},
   "outputs": [],
   "source": [
    "#drop missing rows in city because most of the rows are missing after doing most of the cleaning\n",
    "df.dropna(subset = ['city'], inplace=True) "
   ]
  },
  {
   "cell_type": "code",
   "execution_count": 20,
   "metadata": {},
   "outputs": [
    {
     "name": "stderr",
     "output_type": "stream",
     "text": [
      "/var/folders/0y/9xykymqn331_bmmdcljfdlyh0000gn/T/ipykernel_7090/1458683160.py:2: FutureWarning: Downcasting object dtype arrays on .fillna, .ffill, .bfill is deprecated and will change in a future version. Call result.infer_objects(copy=False) instead. To opt-in to the future behavior, set `pd.set_option('future.no_silent_downcasting', True)`\n",
      "  lambda x: x.fillna(x.mode().iloc[0] if not x.mode().empty else np.nan)\n"
     ]
    }
   ],
   "source": [
    "df['zip'] = df.groupby('city')['zip'].transform(\n",
    "    lambda x: x.fillna(x.mode().iloc[0] if not x.mode().empty else np.nan)\n",
    ")\n"
   ]
  },
  {
   "cell_type": "code",
   "execution_count": 21,
   "metadata": {},
   "outputs": [
    {
     "data": {
      "text/plain": [
       "PreferredSponsors    0\n",
       "Gender               0\n",
       "Country              0\n",
       "Degree               0\n",
       "Sign Up Date         0\n",
       "city                 0\n",
       "zip                  5\n",
       "isFromSocialMedia    8\n",
       "dtype: int64"
      ]
     },
     "execution_count": 21,
     "metadata": {},
     "output_type": "execute_result"
    }
   ],
   "source": [
    "df.isna().sum()"
   ]
  },
  {
   "cell_type": "code",
   "execution_count": null,
   "metadata": {},
   "outputs": [
    {
     "data": {
      "text/html": [
       "<div>\n",
       "<style scoped>\n",
       "    .dataframe tbody tr th:only-of-type {\n",
       "        vertical-align: middle;\n",
       "    }\n",
       "\n",
       "    .dataframe tbody tr th {\n",
       "        vertical-align: top;\n",
       "    }\n",
       "\n",
       "    .dataframe thead th {\n",
       "        text-align: right;\n",
       "    }\n",
       "</style>\n",
       "<table border=\"1\" class=\"dataframe\">\n",
       "  <thead>\n",
       "    <tr style=\"text-align: right;\">\n",
       "      <th></th>\n",
       "      <th>PreferredSponsors</th>\n",
       "      <th>Gender</th>\n",
       "      <th>Country</th>\n",
       "      <th>Degree</th>\n",
       "      <th>Sign Up Date</th>\n",
       "      <th>city</th>\n",
       "      <th>zip</th>\n",
       "      <th>isFromSocialMedia</th>\n",
       "    </tr>\n",
       "  </thead>\n",
       "  <tbody>\n",
       "    <tr>\n",
       "      <th>13120</th>\n",
       "      <td>[\"GlobalShala\",\"Grant Thornton China\",\"Saint L...</td>\n",
       "      <td>Male</td>\n",
       "      <td>Uganda</td>\n",
       "      <td>Undergraduate Student</td>\n",
       "      <td>2023-06-16T04:20:02.245Z</td>\n",
       "      <td>Mbarara</td>\n",
       "      <td>NaN</td>\n",
       "      <td>True</td>\n",
       "    </tr>\n",
       "    <tr>\n",
       "      <th>21222</th>\n",
       "      <td>[\"GlobalShala\",\"Grant Thornton China\",\"Saint L...</td>\n",
       "      <td>Female</td>\n",
       "      <td>Vietnam</td>\n",
       "      <td>Undergraduate Student</td>\n",
       "      <td>2023-06-15T03:36:02.537Z</td>\n",
       "      <td>HoChiMinh</td>\n",
       "      <td>NaN</td>\n",
       "      <td>True</td>\n",
       "    </tr>\n",
       "    <tr>\n",
       "      <th>22396</th>\n",
       "      <td>[\"GlobalShala\",\"Grant Thornton China\",\"Saint L...</td>\n",
       "      <td>Female</td>\n",
       "      <td>Nigeria</td>\n",
       "      <td>Undergraduate Student</td>\n",
       "      <td>2023-07-27T11:18:42.727Z</td>\n",
       "      <td>kawo</td>\n",
       "      <td>NaN</td>\n",
       "      <td>True</td>\n",
       "    </tr>\n",
       "    <tr>\n",
       "      <th>23083</th>\n",
       "      <td>[\"GlobalShala\",\"Grant Thornton China\",\"Saint L...</td>\n",
       "      <td>Female</td>\n",
       "      <td>Ghana</td>\n",
       "      <td>Undergraduate Student</td>\n",
       "      <td>2023-08-14T11:54:13.167Z</td>\n",
       "      <td>Golf city</td>\n",
       "      <td>NaN</td>\n",
       "      <td>True</td>\n",
       "    </tr>\n",
       "    <tr>\n",
       "      <th>25519</th>\n",
       "      <td>[\"GlobalShala\",\"Grant Thornton China\",\"Saint L...</td>\n",
       "      <td>Male</td>\n",
       "      <td>Ethiopia</td>\n",
       "      <td>Graduate Program Student</td>\n",
       "      <td>2023-04-29T12:31:29.256Z</td>\n",
       "      <td>Bishoftu</td>\n",
       "      <td>NaN</td>\n",
       "      <td>False</td>\n",
       "    </tr>\n",
       "  </tbody>\n",
       "</table>\n",
       "</div>"
      ],
      "text/plain": [
       "                                       PreferredSponsors  Gender   Country  \\\n",
       "13120  [\"GlobalShala\",\"Grant Thornton China\",\"Saint L...    Male    Uganda   \n",
       "21222  [\"GlobalShala\",\"Grant Thornton China\",\"Saint L...  Female   Vietnam   \n",
       "22396  [\"GlobalShala\",\"Grant Thornton China\",\"Saint L...  Female   Nigeria   \n",
       "23083  [\"GlobalShala\",\"Grant Thornton China\",\"Saint L...  Female     Ghana   \n",
       "25519  [\"GlobalShala\",\"Grant Thornton China\",\"Saint L...    Male  Ethiopia   \n",
       "\n",
       "                         Degree              Sign Up Date       city  zip  \\\n",
       "13120     Undergraduate Student  2023-06-16T04:20:02.245Z    Mbarara  NaN   \n",
       "21222     Undergraduate Student  2023-06-15T03:36:02.537Z  HoChiMinh  NaN   \n",
       "22396     Undergraduate Student  2023-07-27T11:18:42.727Z       kawo  NaN   \n",
       "23083     Undergraduate Student  2023-08-14T11:54:13.167Z  Golf city  NaN   \n",
       "25519  Graduate Program Student  2023-04-29T12:31:29.256Z   Bishoftu  NaN   \n",
       "\n",
       "      isFromSocialMedia  \n",
       "13120              True  \n",
       "21222              True  \n",
       "22396              True  \n",
       "23083              True  \n",
       "25519             False  "
      ]
     },
     "execution_count": 22,
     "metadata": {},
     "output_type": "execute_result"
    }
   ],
   "source": [
    "# Viewing the number of missing cells  in zip column\n",
    "mask_df = df['zip'].isna()\n",
    "df[mask_df]"
   ]
  },
  {
   "cell_type": "code",
   "execution_count": 23,
   "metadata": {},
   "outputs": [],
   "source": [
    "# Fill missing zip values based on the mode within each country\n",
    "df['zip'] = df.groupby('Country')['zip'].transform(\n",
    "    lambda x: x.fillna(x.mode()[0]) if not x.mode().empty else np.nan\n",
    ")"
   ]
  },
  {
   "cell_type": "code",
   "execution_count": null,
   "metadata": {},
   "outputs": [],
   "source": [
    "max_social =  df['isFromSocialMedia'].value_counts().idxmax()\n",
    "max_social"
   ]
  },
  {
   "cell_type": "code",
   "execution_count": null,
   "metadata": {},
   "outputs": [
    {
     "name": "stderr",
     "output_type": "stream",
     "text": [
      "/var/folders/0y/9xykymqn331_bmmdcljfdlyh0000gn/T/ipykernel_7090/4047748715.py:1: FutureWarning: A value is trying to be set on a copy of a DataFrame or Series through chained assignment using an inplace method.\n",
      "The behavior will change in pandas 3.0. This inplace method will never work because the intermediate object on which we are setting values always behaves as a copy.\n",
      "\n",
      "For example, when doing 'df[col].method(value, inplace=True)', try using 'df.method({col: value}, inplace=True)' or df[col] = df[col].method(value) instead, to perform the operation inplace on the original object.\n",
      "\n",
      "\n",
      "  df['isFromSocialMedia'].replace(np.nan, max_social, inplace=True)\n",
      "/var/folders/0y/9xykymqn331_bmmdcljfdlyh0000gn/T/ipykernel_7090/4047748715.py:1: FutureWarning: Downcasting behavior in `replace` is deprecated and will be removed in a future version. To retain the old behavior, explicitly call `result.infer_objects(copy=False)`. To opt-in to the future behavior, set `pd.set_option('future.no_silent_downcasting', True)`\n",
      "  df['isFromSocialMedia'].replace(np.nan, max_social, inplace=True)\n"
     ]
    }
   ],
   "source": [
    "#Fill the missing values by using the mode in max_social\n",
    "df['isFromSocialMedia'].replace(np.nan, max_social, inplace=True)"
   ]
  },
  {
   "cell_type": "code",
   "execution_count": 26,
   "metadata": {},
   "outputs": [
    {
     "data": {
      "text/html": [
       "<div>\n",
       "<style scoped>\n",
       "    .dataframe tbody tr th:only-of-type {\n",
       "        vertical-align: middle;\n",
       "    }\n",
       "\n",
       "    .dataframe tbody tr th {\n",
       "        vertical-align: top;\n",
       "    }\n",
       "\n",
       "    .dataframe thead th {\n",
       "        text-align: right;\n",
       "    }\n",
       "</style>\n",
       "<table border=\"1\" class=\"dataframe\">\n",
       "  <thead>\n",
       "    <tr style=\"text-align: right;\">\n",
       "      <th></th>\n",
       "      <th>PreferredSponsors</th>\n",
       "      <th>Gender</th>\n",
       "      <th>Country</th>\n",
       "      <th>Degree</th>\n",
       "      <th>Sign Up Date</th>\n",
       "      <th>city</th>\n",
       "      <th>zip</th>\n",
       "      <th>isFromSocialMedia</th>\n",
       "    </tr>\n",
       "  </thead>\n",
       "  <tbody>\n",
       "    <tr>\n",
       "      <th>0</th>\n",
       "      <td>[\"GlobalShala\",\"Grant Thornton China\",\"Saint L...</td>\n",
       "      <td>Male</td>\n",
       "      <td>Nigeria</td>\n",
       "      <td>Undergraduate Student</td>\n",
       "      <td>2023-07-23T08:05:58.602Z</td>\n",
       "      <td>Owerri</td>\n",
       "      <td>460103</td>\n",
       "      <td>False</td>\n",
       "    </tr>\n",
       "    <tr>\n",
       "      <th>1</th>\n",
       "      <td>[\"GlobalShala\",\"Grant Thornton China\",\"Saint L...</td>\n",
       "      <td>Male</td>\n",
       "      <td>India</td>\n",
       "      <td>Undergraduate Student</td>\n",
       "      <td>2023-04-24T09:57:07.405Z</td>\n",
       "      <td>kottayam</td>\n",
       "      <td>686501</td>\n",
       "      <td>False</td>\n",
       "    </tr>\n",
       "    <tr>\n",
       "      <th>2</th>\n",
       "      <td>[\"GlobalShala\",\"Illinois Institute of Technolo...</td>\n",
       "      <td>Male</td>\n",
       "      <td>India</td>\n",
       "      <td>Undergraduate Student</td>\n",
       "      <td>2022-10-14T17:13:36.303Z</td>\n",
       "      <td>Hyderabad</td>\n",
       "      <td>500072</td>\n",
       "      <td>False</td>\n",
       "    </tr>\n",
       "    <tr>\n",
       "      <th>3</th>\n",
       "      <td>[\"GlobalShala\",\"Grant Thornton China\",\"Saint L...</td>\n",
       "      <td>Male</td>\n",
       "      <td>Albania</td>\n",
       "      <td>Graduate Program Student</td>\n",
       "      <td>2023-06-06T12:29:01.772Z</td>\n",
       "      <td>Tirana</td>\n",
       "      <td>1001</td>\n",
       "      <td>True</td>\n",
       "    </tr>\n",
       "    <tr>\n",
       "      <th>4</th>\n",
       "      <td>[\"GlobalShala\",\"Grant Thornton China\",\"Saint L...</td>\n",
       "      <td>Female</td>\n",
       "      <td>Ghana</td>\n",
       "      <td>Not in Education</td>\n",
       "      <td>2023-06-15T16:31:42.719Z</td>\n",
       "      <td>Kumasi</td>\n",
       "      <td>AT-1214-9090</td>\n",
       "      <td>False</td>\n",
       "    </tr>\n",
       "  </tbody>\n",
       "</table>\n",
       "</div>"
      ],
      "text/plain": [
       "                                   PreferredSponsors  Gender  Country  \\\n",
       "0  [\"GlobalShala\",\"Grant Thornton China\",\"Saint L...    Male  Nigeria   \n",
       "1  [\"GlobalShala\",\"Grant Thornton China\",\"Saint L...    Male    India   \n",
       "2  [\"GlobalShala\",\"Illinois Institute of Technolo...    Male    India   \n",
       "3  [\"GlobalShala\",\"Grant Thornton China\",\"Saint L...    Male  Albania   \n",
       "4  [\"GlobalShala\",\"Grant Thornton China\",\"Saint L...  Female    Ghana   \n",
       "\n",
       "                     Degree              Sign Up Date       city  \\\n",
       "0     Undergraduate Student  2023-07-23T08:05:58.602Z     Owerri   \n",
       "1     Undergraduate Student  2023-04-24T09:57:07.405Z   kottayam   \n",
       "2     Undergraduate Student  2022-10-14T17:13:36.303Z  Hyderabad   \n",
       "3  Graduate Program Student  2023-06-06T12:29:01.772Z     Tirana   \n",
       "4          Not in Education  2023-06-15T16:31:42.719Z     Kumasi   \n",
       "\n",
       "            zip  isFromSocialMedia  \n",
       "0        460103              False  \n",
       "1        686501              False  \n",
       "2        500072              False  \n",
       "3          1001               True  \n",
       "4  AT-1214-9090              False  "
      ]
     },
     "execution_count": 26,
     "metadata": {},
     "output_type": "execute_result"
    }
   ],
   "source": [
    "df.head()"
   ]
  },
  {
   "cell_type": "code",
   "execution_count": 27,
   "metadata": {},
   "outputs": [
    {
     "data": {
      "text/html": [
       "<div>\n",
       "<style scoped>\n",
       "    .dataframe tbody tr th:only-of-type {\n",
       "        vertical-align: middle;\n",
       "    }\n",
       "\n",
       "    .dataframe tbody tr th {\n",
       "        vertical-align: top;\n",
       "    }\n",
       "\n",
       "    .dataframe thead th {\n",
       "        text-align: right;\n",
       "    }\n",
       "</style>\n",
       "<table border=\"1\" class=\"dataframe\">\n",
       "  <thead>\n",
       "    <tr style=\"text-align: right;\">\n",
       "      <th></th>\n",
       "      <th>PreferredSponsors</th>\n",
       "      <th>Gender</th>\n",
       "      <th>Country</th>\n",
       "      <th>Degree</th>\n",
       "      <th>Sign Up Date</th>\n",
       "      <th>city</th>\n",
       "      <th>zip</th>\n",
       "      <th>isFromSocialMedia</th>\n",
       "    </tr>\n",
       "  </thead>\n",
       "  <tbody>\n",
       "    <tr>\n",
       "      <th>0</th>\n",
       "      <td>[\"GlobalShala\",\"Grant Thornton China\",\"Saint L...</td>\n",
       "      <td>Male</td>\n",
       "      <td>Nigeria</td>\n",
       "      <td>Undergraduate Student</td>\n",
       "      <td>2023-07-23T08:05:58.602Z</td>\n",
       "      <td>Owerri</td>\n",
       "      <td>460103</td>\n",
       "      <td>False</td>\n",
       "    </tr>\n",
       "    <tr>\n",
       "      <th>1</th>\n",
       "      <td>[\"GlobalShala\",\"Grant Thornton China\",\"Saint L...</td>\n",
       "      <td>Male</td>\n",
       "      <td>India</td>\n",
       "      <td>Undergraduate Student</td>\n",
       "      <td>2023-04-24T09:57:07.405Z</td>\n",
       "      <td>kottayam</td>\n",
       "      <td>686501</td>\n",
       "      <td>False</td>\n",
       "    </tr>\n",
       "    <tr>\n",
       "      <th>2</th>\n",
       "      <td>[\"GlobalShala\",\"Illinois Institute of Technolo...</td>\n",
       "      <td>Male</td>\n",
       "      <td>India</td>\n",
       "      <td>Undergraduate Student</td>\n",
       "      <td>2022-10-14T17:13:36.303Z</td>\n",
       "      <td>Hyderabad</td>\n",
       "      <td>500072</td>\n",
       "      <td>False</td>\n",
       "    </tr>\n",
       "    <tr>\n",
       "      <th>3</th>\n",
       "      <td>[\"GlobalShala\",\"Grant Thornton China\",\"Saint L...</td>\n",
       "      <td>Male</td>\n",
       "      <td>Albania</td>\n",
       "      <td>Graduate Program Student</td>\n",
       "      <td>2023-06-06T12:29:01.772Z</td>\n",
       "      <td>Tirana</td>\n",
       "      <td>1001</td>\n",
       "      <td>True</td>\n",
       "    </tr>\n",
       "    <tr>\n",
       "      <th>4</th>\n",
       "      <td>[\"GlobalShala\",\"Grant Thornton China\",\"Saint L...</td>\n",
       "      <td>Female</td>\n",
       "      <td>Ghana</td>\n",
       "      <td>Not in Education</td>\n",
       "      <td>2023-06-15T16:31:42.719Z</td>\n",
       "      <td>Kumasi</td>\n",
       "      <td>AT-1214-9090</td>\n",
       "      <td>False</td>\n",
       "    </tr>\n",
       "  </tbody>\n",
       "</table>\n",
       "</div>"
      ],
      "text/plain": [
       "                                   PreferredSponsors  Gender  Country  \\\n",
       "0  [\"GlobalShala\",\"Grant Thornton China\",\"Saint L...    Male  Nigeria   \n",
       "1  [\"GlobalShala\",\"Grant Thornton China\",\"Saint L...    Male    India   \n",
       "2  [\"GlobalShala\",\"Illinois Institute of Technolo...    Male    India   \n",
       "3  [\"GlobalShala\",\"Grant Thornton China\",\"Saint L...    Male  Albania   \n",
       "4  [\"GlobalShala\",\"Grant Thornton China\",\"Saint L...  Female    Ghana   \n",
       "\n",
       "                     Degree              Sign Up Date       city  \\\n",
       "0     Undergraduate Student  2023-07-23T08:05:58.602Z     Owerri   \n",
       "1     Undergraduate Student  2023-04-24T09:57:07.405Z   kottayam   \n",
       "2     Undergraduate Student  2022-10-14T17:13:36.303Z  Hyderabad   \n",
       "3  Graduate Program Student  2023-06-06T12:29:01.772Z     Tirana   \n",
       "4          Not in Education  2023-06-15T16:31:42.719Z     Kumasi   \n",
       "\n",
       "            zip  isFromSocialMedia  \n",
       "0        460103              False  \n",
       "1        686501              False  \n",
       "2        500072              False  \n",
       "3          1001               True  \n",
       "4  AT-1214-9090              False  "
      ]
     },
     "execution_count": 27,
     "metadata": {},
     "output_type": "execute_result"
    }
   ],
   "source": [
    "df.head()\n",
    "\n"
   ]
  },
  {
   "cell_type": "code",
   "execution_count": 28,
   "metadata": {},
   "outputs": [
    {
     "data": {
      "text/plain": [
       "PreferredSponsors    0\n",
       "Gender               0\n",
       "Country              0\n",
       "Degree               0\n",
       "Sign Up Date         0\n",
       "city                 0\n",
       "zip                  0\n",
       "isFromSocialMedia    0\n",
       "dtype: int64"
      ]
     },
     "execution_count": 28,
     "metadata": {},
     "output_type": "execute_result"
    }
   ],
   "source": [
    "df.isnull().sum()"
   ]
  },
  {
   "cell_type": "code",
   "execution_count": null,
   "metadata": {},
   "outputs": [
    {
     "name": "stdout",
     "output_type": "stream",
     "text": [
      "                                       PreferredSponsors  Gender  \\\n",
      "0      [\"GlobalShala\",\"Grant Thornton China\",\"Saint L...    Male   \n",
      "1      [\"GlobalShala\",\"Grant Thornton China\",\"Saint L...    Male   \n",
      "2      [\"GlobalShala\",\"Illinois Institute of Technolo...    Male   \n",
      "3      [\"GlobalShala\",\"Grant Thornton China\",\"Saint L...    Male   \n",
      "4      [\"GlobalShala\",\"Grant Thornton China\",\"Saint L...  Female   \n",
      "...                                                  ...     ...   \n",
      "27557  [\"GlobalShala\",\"Grant Thornton China\",\"Saint L...  Female   \n",
      "27558  [\"GlobalShala\",\"Saint Louis University\",\"Illin...    Male   \n",
      "27559  [\"GlobalShala\",\"Illinois Institute of Technolo...    Male   \n",
      "27560  [\"GlobalShala\",\"Grant Thornton China\",\"Saint L...    Male   \n",
      "27561  [\"GlobalShala\",\"Grant Thornton China\",\"Saint L...    Male   \n",
      "\n",
      "             Country                    Degree  \\\n",
      "0            Nigeria     Undergraduate Student   \n",
      "1              India     Undergraduate Student   \n",
      "2              India     Undergraduate Student   \n",
      "3            Albania  Graduate Program Student   \n",
      "4              Ghana          Not in Education   \n",
      "...              ...                       ...   \n",
      "27557       Botswana     Undergraduate Student   \n",
      "27558  United States     Undergraduate Student   \n",
      "27559  United States       High School Student   \n",
      "27560       Pakistan     Undergraduate Student   \n",
      "27561     Bangladesh     Undergraduate Student   \n",
      "\n",
      "                          Sign Up Date           city           zip  \\\n",
      "0     2023-07-23 08:05:58.602000+00:00         Owerri        460103   \n",
      "1     2023-04-24 09:57:07.405000+00:00       kottayam        686501   \n",
      "2     2022-10-14 17:13:36.303000+00:00      Hyderabad        500072   \n",
      "3     2023-06-06 12:29:01.772000+00:00         Tirana          1001   \n",
      "4     2023-06-15 16:31:42.719000+00:00         Kumasi  AT-1214-9090   \n",
      "...                                ...            ...           ...   \n",
      "27557 2023-04-08 05:30:44.705000+00:00       Gaborone        123456   \n",
      "27558 2023-02-01 20:46:32.637000+00:00        Coppell         75019   \n",
      "27559 2022-09-22 14:06:56.114000+00:00         Austin         78727   \n",
      "27560 2023-06-16 04:18:38.811000+00:00  Daraban kalan         29111   \n",
      "27561 2023-05-05 04:03:14.765000+00:00          Dhaka          1236   \n",
      "\n",
      "       isFromSocialMedia  day  month  year  \n",
      "0                  False   23      7  2023  \n",
      "1                  False   24      4  2023  \n",
      "2                  False   14     10  2022  \n",
      "3                   True    6      6  2023  \n",
      "4                  False   15      6  2023  \n",
      "...                  ...  ...    ...   ...  \n",
      "27557               True    8      4  2023  \n",
      "27558              False    1      2  2023  \n",
      "27559              False   22      9  2022  \n",
      "27560               True   16      6  2023  \n",
      "27561               True    5      5  2023  \n",
      "\n",
      "[27499 rows x 11 columns]\n"
     ]
    }
   ],
   "source": [
    "# Breaking up the timestamp to figeu\n",
    "\n",
    "df['Sign Up Date'] = pd.to_datetime(df['Sign Up Date'])\n",
    "\n",
    "df['day'] = df['Sign Up Date'].dt.day\n",
    "df['month'] = df['Sign Up Date'].dt.month\n",
    "df['year'] = df['Sign Up Date'].dt.year\n",
    "\n",
    "\n",
    "print(df)"
   ]
  },
  {
   "cell_type": "code",
   "execution_count": 30,
   "metadata": {},
   "outputs": [],
   "source": [
    "df.drop('Sign Up Date', axis=1, inplace=True)"
   ]
  },
  {
   "cell_type": "code",
   "execution_count": 31,
   "metadata": {},
   "outputs": [
    {
     "data": {
      "text/html": [
       "<div>\n",
       "<style scoped>\n",
       "    .dataframe tbody tr th:only-of-type {\n",
       "        vertical-align: middle;\n",
       "    }\n",
       "\n",
       "    .dataframe tbody tr th {\n",
       "        vertical-align: top;\n",
       "    }\n",
       "\n",
       "    .dataframe thead th {\n",
       "        text-align: right;\n",
       "    }\n",
       "</style>\n",
       "<table border=\"1\" class=\"dataframe\">\n",
       "  <thead>\n",
       "    <tr style=\"text-align: right;\">\n",
       "      <th></th>\n",
       "      <th>PreferredSponsors</th>\n",
       "      <th>Gender</th>\n",
       "      <th>Country</th>\n",
       "      <th>Degree</th>\n",
       "      <th>city</th>\n",
       "      <th>zip</th>\n",
       "      <th>isFromSocialMedia</th>\n",
       "      <th>day</th>\n",
       "      <th>month</th>\n",
       "      <th>year</th>\n",
       "    </tr>\n",
       "  </thead>\n",
       "  <tbody>\n",
       "    <tr>\n",
       "      <th>0</th>\n",
       "      <td>[\"GlobalShala\",\"Grant Thornton China\",\"Saint L...</td>\n",
       "      <td>Male</td>\n",
       "      <td>Nigeria</td>\n",
       "      <td>Undergraduate Student</td>\n",
       "      <td>Owerri</td>\n",
       "      <td>460103</td>\n",
       "      <td>False</td>\n",
       "      <td>23</td>\n",
       "      <td>7</td>\n",
       "      <td>2023</td>\n",
       "    </tr>\n",
       "    <tr>\n",
       "      <th>1</th>\n",
       "      <td>[\"GlobalShala\",\"Grant Thornton China\",\"Saint L...</td>\n",
       "      <td>Male</td>\n",
       "      <td>India</td>\n",
       "      <td>Undergraduate Student</td>\n",
       "      <td>kottayam</td>\n",
       "      <td>686501</td>\n",
       "      <td>False</td>\n",
       "      <td>24</td>\n",
       "      <td>4</td>\n",
       "      <td>2023</td>\n",
       "    </tr>\n",
       "    <tr>\n",
       "      <th>2</th>\n",
       "      <td>[\"GlobalShala\",\"Illinois Institute of Technolo...</td>\n",
       "      <td>Male</td>\n",
       "      <td>India</td>\n",
       "      <td>Undergraduate Student</td>\n",
       "      <td>Hyderabad</td>\n",
       "      <td>500072</td>\n",
       "      <td>False</td>\n",
       "      <td>14</td>\n",
       "      <td>10</td>\n",
       "      <td>2022</td>\n",
       "    </tr>\n",
       "    <tr>\n",
       "      <th>3</th>\n",
       "      <td>[\"GlobalShala\",\"Grant Thornton China\",\"Saint L...</td>\n",
       "      <td>Male</td>\n",
       "      <td>Albania</td>\n",
       "      <td>Graduate Program Student</td>\n",
       "      <td>Tirana</td>\n",
       "      <td>1001</td>\n",
       "      <td>True</td>\n",
       "      <td>6</td>\n",
       "      <td>6</td>\n",
       "      <td>2023</td>\n",
       "    </tr>\n",
       "    <tr>\n",
       "      <th>4</th>\n",
       "      <td>[\"GlobalShala\",\"Grant Thornton China\",\"Saint L...</td>\n",
       "      <td>Female</td>\n",
       "      <td>Ghana</td>\n",
       "      <td>Not in Education</td>\n",
       "      <td>Kumasi</td>\n",
       "      <td>AT-1214-9090</td>\n",
       "      <td>False</td>\n",
       "      <td>15</td>\n",
       "      <td>6</td>\n",
       "      <td>2023</td>\n",
       "    </tr>\n",
       "  </tbody>\n",
       "</table>\n",
       "</div>"
      ],
      "text/plain": [
       "                                   PreferredSponsors  Gender  Country  \\\n",
       "0  [\"GlobalShala\",\"Grant Thornton China\",\"Saint L...    Male  Nigeria   \n",
       "1  [\"GlobalShala\",\"Grant Thornton China\",\"Saint L...    Male    India   \n",
       "2  [\"GlobalShala\",\"Illinois Institute of Technolo...    Male    India   \n",
       "3  [\"GlobalShala\",\"Grant Thornton China\",\"Saint L...    Male  Albania   \n",
       "4  [\"GlobalShala\",\"Grant Thornton China\",\"Saint L...  Female    Ghana   \n",
       "\n",
       "                     Degree       city           zip  isFromSocialMedia  day  \\\n",
       "0     Undergraduate Student     Owerri        460103              False   23   \n",
       "1     Undergraduate Student   kottayam        686501              False   24   \n",
       "2     Undergraduate Student  Hyderabad        500072              False   14   \n",
       "3  Graduate Program Student     Tirana          1001               True    6   \n",
       "4          Not in Education     Kumasi  AT-1214-9090              False   15   \n",
       "\n",
       "   month  year  \n",
       "0      7  2023  \n",
       "1      4  2023  \n",
       "2     10  2022  \n",
       "3      6  2023  \n",
       "4      6  2023  "
      ]
     },
     "execution_count": 31,
     "metadata": {},
     "output_type": "execute_result"
    }
   ],
   "source": [
    "df.head()"
   ]
  },
  {
   "cell_type": "code",
   "execution_count": 32,
   "metadata": {},
   "outputs": [
    {
     "data": {
      "text/plain": [
       "PreferredSponsors    object\n",
       "Gender               object\n",
       "Country              object\n",
       "Degree               object\n",
       "city                 object\n",
       "zip                  object\n",
       "isFromSocialMedia      bool\n",
       "day                   int32\n",
       "month                 int32\n",
       "year                  int32\n",
       "dtype: object"
      ]
     },
     "execution_count": 32,
     "metadata": {},
     "output_type": "execute_result"
    }
   ],
   "source": [
    "df.dtypes"
   ]
  },
  {
   "cell_type": "code",
   "execution_count": 33,
   "metadata": {},
   "outputs": [
    {
     "name": "stdout",
     "output_type": "stream",
     "text": [
      "There are 6553 rows in the dataset\n"
     ]
    }
   ],
   "source": [
    "duplicated_df = df.duplicated()\n",
    "duplicates  = df[duplicated_df]\n",
    "print(\"There are\",duplicates.shape[0], \"rows in the dataset\")\n"
   ]
  },
  {
   "cell_type": "code",
   "execution_count": 34,
   "metadata": {},
   "outputs": [],
   "source": [
    "df.drop_duplicates(inplace=True)"
   ]
  },
  {
   "cell_type": "code",
   "execution_count": 35,
   "metadata": {},
   "outputs": [
    {
     "name": "stdout",
     "output_type": "stream",
     "text": [
      "After removing duplicates, there are 20946 rows\n"
     ]
    }
   ],
   "source": [
    "df.shape\n",
    "print(\"After removing duplicates, there are\", df.shape[0], \"rows\")"
   ]
  },
  {
   "cell_type": "code",
   "execution_count": 37,
   "metadata": {},
   "outputs": [],
   "source": [
    "# duplicated_df = df.duplicated()\n",
    "# duplicates = df[df.duplicated_df]\n",
    "# df.drop(duplicates, axis= 0, inplace=True)"
   ]
  },
  {
   "cell_type": "code",
   "execution_count": 39,
   "metadata": {},
   "outputs": [
    {
     "name": "stdout",
     "output_type": "stream",
     "text": [
      "(20946, 10)\n"
     ]
    },
    {
     "data": {
      "text/html": [
       "<div>\n",
       "<style scoped>\n",
       "    .dataframe tbody tr th:only-of-type {\n",
       "        vertical-align: middle;\n",
       "    }\n",
       "\n",
       "    .dataframe tbody tr th {\n",
       "        vertical-align: top;\n",
       "    }\n",
       "\n",
       "    .dataframe thead th {\n",
       "        text-align: right;\n",
       "    }\n",
       "</style>\n",
       "<table border=\"1\" class=\"dataframe\">\n",
       "  <thead>\n",
       "    <tr style=\"text-align: right;\">\n",
       "      <th></th>\n",
       "      <th>PreferredSponsors</th>\n",
       "      <th>Gender</th>\n",
       "      <th>Country</th>\n",
       "      <th>Degree</th>\n",
       "      <th>city</th>\n",
       "      <th>zip</th>\n",
       "      <th>isFromSocialMedia</th>\n",
       "      <th>day</th>\n",
       "      <th>month</th>\n",
       "      <th>year</th>\n",
       "    </tr>\n",
       "  </thead>\n",
       "  <tbody>\n",
       "    <tr>\n",
       "      <th>0</th>\n",
       "      <td>[\"GlobalShala\",\"Grant Thornton China\",\"Saint L...</td>\n",
       "      <td>Male</td>\n",
       "      <td>Nigeria</td>\n",
       "      <td>Undergraduate Student</td>\n",
       "      <td>Owerri</td>\n",
       "      <td>460103</td>\n",
       "      <td>False</td>\n",
       "      <td>23</td>\n",
       "      <td>7</td>\n",
       "      <td>2023</td>\n",
       "    </tr>\n",
       "    <tr>\n",
       "      <th>1</th>\n",
       "      <td>[\"GlobalShala\",\"Grant Thornton China\",\"Saint L...</td>\n",
       "      <td>Male</td>\n",
       "      <td>India</td>\n",
       "      <td>Undergraduate Student</td>\n",
       "      <td>kottayam</td>\n",
       "      <td>686501</td>\n",
       "      <td>False</td>\n",
       "      <td>24</td>\n",
       "      <td>4</td>\n",
       "      <td>2023</td>\n",
       "    </tr>\n",
       "    <tr>\n",
       "      <th>2</th>\n",
       "      <td>[\"GlobalShala\",\"Illinois Institute of Technolo...</td>\n",
       "      <td>Male</td>\n",
       "      <td>India</td>\n",
       "      <td>Undergraduate Student</td>\n",
       "      <td>Hyderabad</td>\n",
       "      <td>500072</td>\n",
       "      <td>False</td>\n",
       "      <td>14</td>\n",
       "      <td>10</td>\n",
       "      <td>2022</td>\n",
       "    </tr>\n",
       "    <tr>\n",
       "      <th>3</th>\n",
       "      <td>[\"GlobalShala\",\"Grant Thornton China\",\"Saint L...</td>\n",
       "      <td>Male</td>\n",
       "      <td>Albania</td>\n",
       "      <td>Graduate Program Student</td>\n",
       "      <td>Tirana</td>\n",
       "      <td>1001</td>\n",
       "      <td>True</td>\n",
       "      <td>6</td>\n",
       "      <td>6</td>\n",
       "      <td>2023</td>\n",
       "    </tr>\n",
       "    <tr>\n",
       "      <th>4</th>\n",
       "      <td>[\"GlobalShala\",\"Grant Thornton China\",\"Saint L...</td>\n",
       "      <td>Female</td>\n",
       "      <td>Ghana</td>\n",
       "      <td>Not in Education</td>\n",
       "      <td>Kumasi</td>\n",
       "      <td>AT-1214-9090</td>\n",
       "      <td>False</td>\n",
       "      <td>15</td>\n",
       "      <td>6</td>\n",
       "      <td>2023</td>\n",
       "    </tr>\n",
       "  </tbody>\n",
       "</table>\n",
       "</div>"
      ],
      "text/plain": [
       "                                   PreferredSponsors  Gender  Country  \\\n",
       "0  [\"GlobalShala\",\"Grant Thornton China\",\"Saint L...    Male  Nigeria   \n",
       "1  [\"GlobalShala\",\"Grant Thornton China\",\"Saint L...    Male    India   \n",
       "2  [\"GlobalShala\",\"Illinois Institute of Technolo...    Male    India   \n",
       "3  [\"GlobalShala\",\"Grant Thornton China\",\"Saint L...    Male  Albania   \n",
       "4  [\"GlobalShala\",\"Grant Thornton China\",\"Saint L...  Female    Ghana   \n",
       "\n",
       "                     Degree       city           zip  isFromSocialMedia  day  \\\n",
       "0     Undergraduate Student     Owerri        460103              False   23   \n",
       "1     Undergraduate Student   kottayam        686501              False   24   \n",
       "2     Undergraduate Student  Hyderabad        500072              False   14   \n",
       "3  Graduate Program Student     Tirana          1001               True    6   \n",
       "4          Not in Education     Kumasi  AT-1214-9090              False   15   \n",
       "\n",
       "   month  year  \n",
       "0      7  2023  \n",
       "1      4  2023  \n",
       "2     10  2022  \n",
       "3      6  2023  \n",
       "4      6  2023  "
      ]
     },
     "execution_count": 39,
     "metadata": {},
     "output_type": "execute_result"
    }
   ],
   "source": [
    "print(df.shape)\n",
    "df.head()"
   ]
  },
  {
   "cell_type": "code",
   "execution_count": 62,
   "metadata": {},
   "outputs": [
    {
     "data": {
      "text/plain": [
       "PreferredSponsors\n",
       "[\"GlobalShala\",\"Grant Thornton China\",\"Saint Louis University\",\"Illinois Institute of Technology\",\"Excelerate\"]    16255\n",
       "[\"GlobalShala\",\"Illinois Institute of Technology\",\"Saint Louis University\",\"Grant Thornton China\",\"Excelerate\"]     1442\n",
       "[\"Illinois Institute of Technology\",\"Grant Thornton China\",\"Excelerate\"]                                             962\n",
       "[\"Saint Louis University\"]                                                                                           557\n",
       "[\"GlobalShala\",\"Saint Louis University\",\"Illinois Institute of Technology\",\"Grant Thornton China\",\"Excelerate\"]      349\n",
       "                                                                                                                   ...  \n",
       "[\"Illinois Institute of Technology\",\"Excelerate\",\"Saint Louis University\"]                                             1\n",
       "[\"GlobalShala\",\"Saint Louis University\",\"Excelerate\",\"Illinois Institute of Technology\"]                               1\n",
       "[\"Grant Thornton China\"]                                                                                               1\n",
       "[\"Grant Thornton China\",\"Saint Louis University\",\"Illinois Institute of Technology\"]                                   1\n",
       "[\"Illinois Institute of Technology\",\"Saint Louis University\",\"Excelerate\",\"GlobalShala\",\"Grant Thornton China\"]        1\n",
       "Name: count, Length: 94, dtype: int64"
      ]
     },
     "execution_count": 62,
     "metadata": {},
     "output_type": "execute_result"
    }
   ],
   "source": [
    "df['PreferredSponsors'].value_counts()"
   ]
  },
  {
   "cell_type": "markdown",
   "metadata": {},
   "source": [
    "## Visualization of charts"
   ]
  },
  {
   "cell_type": "code",
   "execution_count": 41,
   "metadata": {},
   "outputs": [],
   "source": [
    "import matplotlib.pyplot as plt\n",
    "import seaborn as sns\n",
    "%matplotlib inline"
   ]
  },
  {
   "cell_type": "code",
   "execution_count": null,
   "metadata": {},
   "outputs": [
    {
     "data": {
      "text/plain": [
       "Country\n",
       "India            8901\n",
       "Nigeria          3434\n",
       "United States    2941\n",
       "Pakistan         1299\n",
       "Ghana             852\n",
       "                 ... \n",
       "Guatemala           1\n",
       "Guam                1\n",
       "Greece              1\n",
       "Latvia              1\n",
       "Serbia              1\n",
       "Name: count, Length: 134, dtype: int64"
      ]
     },
     "execution_count": 63,
     "metadata": {},
     "output_type": "execute_result"
    }
   ],
   "source": [
    "count_country = df['Country'].value_counts()"
   ]
  },
  {
   "cell_type": "code",
   "execution_count": 57,
   "metadata": {},
   "outputs": [
    {
     "data": {
      "text/html": [
       "<div>\n",
       "<style scoped>\n",
       "    .dataframe tbody tr th:only-of-type {\n",
       "        vertical-align: middle;\n",
       "    }\n",
       "\n",
       "    .dataframe tbody tr th {\n",
       "        vertical-align: top;\n",
       "    }\n",
       "\n",
       "    .dataframe thead th {\n",
       "        text-align: right;\n",
       "    }\n",
       "</style>\n",
       "<table border=\"1\" class=\"dataframe\">\n",
       "  <thead>\n",
       "    <tr style=\"text-align: right;\">\n",
       "      <th></th>\n",
       "      <th>count</th>\n",
       "    </tr>\n",
       "    <tr>\n",
       "      <th>Gender</th>\n",
       "      <th></th>\n",
       "    </tr>\n",
       "  </thead>\n",
       "  <tbody>\n",
       "    <tr>\n",
       "      <th>Male</th>\n",
       "      <td>13672</td>\n",
       "    </tr>\n",
       "    <tr>\n",
       "      <th>Female</th>\n",
       "      <td>7182</td>\n",
       "    </tr>\n",
       "    <tr>\n",
       "      <th>Don't want to specify</th>\n",
       "      <td>77</td>\n",
       "    </tr>\n",
       "    <tr>\n",
       "      <th>Other</th>\n",
       "      <td>15</td>\n",
       "    </tr>\n",
       "  </tbody>\n",
       "</table>\n",
       "</div>"
      ],
      "text/plain": [
       "                       count\n",
       "Gender                      \n",
       "Male                   13672\n",
       "Female                  7182\n",
       "Don't want to specify     77\n",
       "Other                     15"
      ]
     },
     "execution_count": 57,
     "metadata": {},
     "output_type": "execute_result"
    }
   ],
   "source": [
    "#visualizing the gender chart\n",
    "\n",
    "count_gender = df['Gender'].value_counts().reset_index()\n",
    "count_gender.set_index(count_gender.columns[0], inplace=True)\n",
    "count_gender"
   ]
  },
  {
   "cell_type": "code",
   "execution_count": null,
   "metadata": {},
   "outputs": [
    {
     "data": {
      "text/plain": [
       "<Axes: xlabel='Gender'>"
      ]
     },
     "execution_count": 56,
     "metadata": {},
     "output_type": "execute_result"
    },
    {
     "data": {
      "image/png": "[encoded data removed]",
      "text/plain": [
       "<Figure size 640x480 with 1 Axes>"
      ]
     },
     "metadata": {},
     "output_type": "display_data"
    }
   ],
   "source": [
    "#Visualizaing gender column\n",
    "count_gender.plot(kind='bar')\n",
    "plt."
   ]
  },
  {
   "cell_type": "code",
   "execution_count": 64,
   "metadata": {},
   "outputs": [],
   "source": [
    "df.to_csv('/Users/macbookair/workspace/Excelerate/CleanedUserData.csv')"
   ]
  }
 ],
 "metadata": {
  "kernelspec": {
   "display_name": "Python 3",
   "language": "python",
   "name": "python3"
  },
  "language_info": {
   "codemirror_mode": {
    "name": "ipython",
    "version": 3
   },
   "file_extension": ".py",
   "mimetype": "text/x-python",
   "name": "python",
   "nbconvert_exporter": "python",
   "pygments_lexer": "ipython3",
   "version": "3.11.4"
  }
 },
 "nbformat": 4,
 "nbformat_minor": 2
}
